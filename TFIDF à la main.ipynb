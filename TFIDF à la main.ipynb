{
 "cells": [
  {
   "cell_type": "code",
   "execution_count": 1,
   "metadata": {},
   "outputs": [
    {
     "name": "stdout",
     "output_type": "stream",
     "text": [
      "{'le': 0.0, 'mange': 0.0, 'la': 0.11552453009332421, 'viande': 0.0, 'chat': 0.0, 'chien': 0.11552453009332421, 'ne': 0.0, 'de': 0.0, 'pas': 0.0}\n",
      "{'le': 0.0, 'mange': 0.0, 'la': 0.0, 'viande': 0.0, 'chat': 0.09902102579427789, 'chien': 0.0, 'ne': 0.09902102579427789, 'de': 0.0, 'pas': 0.09902102579427789}\n"
     ]
    }
   ],
   "source": [
    "def computeTF(wordDict,bow):# term frequency for wordDict, tokens in list for bow \n",
    "    tfDict = {}\n",
    "    bowCount = len(bow) \n",
    "    for mot,count in wordDict.items():\n",
    "        tfDict[mot]=count / float(bowCount)\n",
    "    return tfDict\n",
    "\n",
    "def computeIDf(docList):\n",
    "    import math\n",
    "    idfDict = {}\n",
    "    N = len(docList)\n",
    "    \n",
    "    # counts the number of documents that contain a word w\n",
    "    idfDict = dict.fromkeys(docList[0].keys(),0)# {'dog': 0, 'cat': 0}\n",
    "    for doc in docList:\n",
    "        for word,val in doc.items():\n",
    "            if val > 0:\n",
    "                idfDict[word]+=1\n",
    "                \n",
    "    for word,val in idfDict.items():\n",
    "        idfDict[word]=math.log(N/float(val))\n",
    "        \n",
    "    return idfDict\n",
    "\n",
    "def computeTFIDF(tfBow,idfs):\n",
    "    tfidf = {}\n",
    "    for word,val in tfBow.items():\n",
    "        tfidf[word] = val * idfs[word]\n",
    "    return tfidf\n",
    "\n",
    "docA = \"Le chien mange de la viande\"\n",
    "docB = \"Le chat ne mange pas de viande\"\n",
    "\n",
    "docA = docA.lower()\n",
    "docB = docB.lower()\n",
    "\n",
    "bowA = docA.split(\" \")\n",
    "bowB = docB.split(\" \")\n",
    "\n",
    "wordSet = set(bowA).union(set(bowB))\n",
    "\n",
    "wordDictA = dict()\n",
    "wordDictB = dict()\n",
    "\n",
    "# TermFrequency\n",
    "for x in bowA:\n",
    "    wordDictA = dict.fromkeys(wordSet,0)\n",
    "    \n",
    "for x in bowB:\n",
    "    wordDictB = dict.fromkeys(wordSet,0)\n",
    "for x in bowA:\n",
    "    wordDictA[x]+=1\n",
    "    \n",
    "for x in bowB:\n",
    "    wordDictB[x]+=1\n",
    "    \n",
    "doclist = [wordDictA,wordDictB]\n",
    "TFA = computeTF(wordDictA,bowA)\n",
    "TFB = computeTF(wordDictB,bowB)\n",
    "\n",
    "IDF = computeIDf(doclist)\n",
    "\n",
    "docA_TFIDF_doc = computeTFIDF(TFA,IDF)\n",
    "docB_TFIDF_doc = computeTFIDF(TFB,IDF)\n",
    "\n",
    "print(docA_TFIDF_doc)\n",
    "print(docB_TFIDF_doc)"
   ]
  },
  {
   "cell_type": "code",
   "execution_count": null,
   "metadata": {},
   "outputs": [],
   "source": []
  }
 ],
 "metadata": {
  "kernelspec": {
   "display_name": "Python 3",
   "language": "python",
   "name": "python3"
  },
  "language_info": {
   "codemirror_mode": {
    "name": "ipython",
    "version": 3
   },
   "file_extension": ".py",
   "mimetype": "text/x-python",
   "name": "python",
   "nbconvert_exporter": "python",
   "pygments_lexer": "ipython3",
   "version": "3.7.3"
  }
 },
 "nbformat": 4,
 "nbformat_minor": 2
}
